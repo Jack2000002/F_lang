{
  "cells": [
    {
      "cell_type": "markdown",
      "metadata": {
        "id": "view-in-github",
        "colab_type": "text"
      },
      "source": [
        "<a href=\"https://colab.research.google.com/github/b3GOR/Flang/blob/main/FLang.ipynb\" target=\"_parent\"><img src=\"https://colab.research.google.com/assets/colab-badge.svg\" alt=\"Open In Colab\"/></a>"
      ]
    },
    {
      "cell_type": "markdown",
      "metadata": {
        "id": "lhHO54Ogw_Bz"
      },
      "source": [
        "# Backend\n"
      ]
    },
    {
      "cell_type": "code",
      "execution_count": null,
      "metadata": {
        "id": "sIC1YCs9U4Jp"
      },
      "outputs": [],
      "source": [
        "%%capture\n",
        "!pip install transformers accelerate"
      ]
    },
    {
      "cell_type": "code",
      "source": [
        "from transformers import AutoTokenizer\n",
        "import transformers\n",
        "import torch\n",
        "from google.colab import files"
      ],
      "metadata": {
        "id": "_uPTu8L2-dYC"
      },
      "execution_count": null,
      "outputs": []
    },
    {
      "cell_type": "code",
      "execution_count": null,
      "metadata": {
        "id": "BgD-ZQZ_U_qQ"
      },
      "outputs": [],
      "source": [
        "model = \"b3G0R/FLang\"\n",
        "tokenizer = AutoTokenizer.from_pretrained(model)\n",
        "pipeline = transformers.pipeline(\n",
        "    \"text-generation\",\n",
        "    model=model,\n",
        "    torch_dtype=torch.float16,\n",
        "    device_map=\"auto\",\n",
        ")\n"
      ]
    },
    {
      "cell_type": "markdown",
      "source": [
        "Загрузка словаря"
      ],
      "metadata": {
        "id": "87GtaYvlB6h4"
      }
    },
    {
      "cell_type": "code",
      "source": [
        "uploaded = files.upload()\n",
        "file_names = list(uploaded.keys())\n",
        "first_file_name = file_names[0]\n",
        "with open(first_file_name, 'r') as file:\n",
        "  w = file.read().split()\n",
        "  dict = ', '.join(w)\n",
        "\n"
      ],
      "metadata": {
        "id": "6p498a0x_kvc"
      },
      "execution_count": null,
      "outputs": []
    },
    {
      "cell_type": "code",
      "execution_count": null,
      "metadata": {
        "id": "s6_NL_W5xsTE",
        "cellView": "form"
      },
      "outputs": [],
      "source": [
        "# @title Генератор текста к словам\n",
        "topic = \"life\" # @param {type:\"string\"}\n",
        "sentence = \"4\" # @param {type:\"string\"}\n",
        "level = \"B1\" # @param [\"A1\", \"A2\", \"B1\", \"B2\", \"C1\", \"C2\"]\n",
        "words = \"man, woman, work, raise\" # @param {type:\"string\"}\n",
        "\n",
        "\n",
        "prompt = f\"write a text on English of {sentence} sentence about {topic} topic, but use these words:{words}\"\n",
        "#The text must be written at an English level {level}.'''\n",
        "SYS = f'''You are an English teacher, and your task is to compose a well-written English text that demonstrates strong grammar, style, and semantics.\n",
        "The text should be tailored to an English proficiency level of {level}.\n",
        "The text must consist of only these words ({dict}) and these words {words}'''\n",
        "\n",
        "\n",
        "sequences = pipeline(\n",
        "    f'[INST] <<SYS>> {SYS}  <</SYS>> {prompt} [/INST]',\n",
        "    do_sample=True,\n",
        "    top_k=10,\n",
        "    num_return_sequences=1,\n",
        "    eos_token_id=tokenizer.eos_token_id,\n",
        "    max_length=800,\n",
        ")\n",
        "\n",
        "generated_text = sequences[0]['generated_text']\n",
        "\n",
        "#while \"[INST]\" in generated_text:\n",
        "#    start_index = generated_text.find(\"[INST]\")\n",
        "#    end_index = generated_text.find(\"[/INST]\", start_index)\n",
        "\n",
        "#    if start_index != -1 and end_index != -1:\n",
        " #       generated_text = generated_text[:start_index] + generated_text[end_index + 7:]\n",
        "  #  else:\n",
        "   #     break\n",
        "\n",
        "# Разделяем предложения символом новой строки\n",
        "generated_text = generated_text.replace(\".\", \".\\n\")\n",
        "\n",
        "print(generated_text)"
      ]
    }
  ],
  "metadata": {
    "colab": {
      "provenance": [],
      "gpuType": "T4",
      "include_colab_link": true
    },
    "kernelspec": {
      "display_name": "Python 3",
      "name": "python3"
    },
    "language_info": {
      "name": "python"
    },
    "accelerator": "GPU"
  },
  "nbformat": 4,
  "nbformat_minor": 0
}